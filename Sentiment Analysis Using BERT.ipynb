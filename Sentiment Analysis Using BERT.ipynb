{
 "cells": [
  {
   "cell_type": "markdown",
   "id": "f54981b3-d4b4-43b6-92c0-7433fb6258b7",
   "metadata": {},
   "source": [
    "# Sentiment Analysis Using BERT"
   ]
  },
  {
   "cell_type": "markdown",
   "id": "ea854048-993f-4dbc-b5ee-a8eb1b3010c5",
   "metadata": {},
   "source": [
    "## Import Dependencies"
   ]
  },
  {
   "cell_type": "code",
   "execution_count": 20,
   "id": "300a5da0-d2ea-424f-9fad-5e56c1edb029",
   "metadata": {},
   "outputs": [],
   "source": [
    "from transformers import AutoTokenizer, AutoModelForSequenceClassification\n",
    "import torch\n",
    "import requests\n",
    "from bs4 import BeautifulSoup\n",
    "import re\n",
    "import pandas as pd\n",
    "import numpy as np\n",
    "import matplotlib.pyplot as plt"
   ]
  },
  {
   "cell_type": "markdown",
   "id": "ce860b27-bb6e-4364-980e-5b2a25034149",
   "metadata": {},
   "source": [
    "## Instantiate Model"
   ]
  },
  {
   "cell_type": "code",
   "execution_count": 3,
   "id": "c904eb35-81c4-4ec8-89d7-9790b9004cc5",
   "metadata": {},
   "outputs": [],
   "source": [
    "tokenizer = AutoTokenizer.from_pretrained('nlptown/bert-base-multilingual-uncased-sentiment')\n",
    "model = AutoModelForSequenceClassification.from_pretrained('nlptown/bert-base-multilingual-uncased-sentiment')"
   ]
  },
  {
   "cell_type": "code",
   "execution_count": 27,
   "id": "72b6ab51-ca88-46a9-ab8b-13b732115ead",
   "metadata": {},
   "outputs": [],
   "source": [
    "tokens = tokenizer.encode('This is absolutely worst.',return_tensors = 'pt')"
   ]
  },
  {
   "cell_type": "code",
   "execution_count": 28,
   "id": "42a7c24f-28ea-43e3-b714-75c765b07dd6",
   "metadata": {},
   "outputs": [
    {
     "data": {
      "text/plain": [
       "tensor([  101, 10372, 10127, 35925, 10563, 43060,   119,   102])"
      ]
     },
     "execution_count": 28,
     "metadata": {},
     "output_type": "execute_result"
    }
   ],
   "source": [
    "tokens[0]"
   ]
  },
  {
   "cell_type": "code",
   "execution_count": 29,
   "id": "1ce8e430-b8d2-4bbf-9420-a0dc75ec4666",
   "metadata": {},
   "outputs": [
    {
     "data": {
      "text/plain": [
       "'[CLS] this is absolutely worst. [SEP]'"
      ]
     },
     "execution_count": 29,
     "metadata": {},
     "output_type": "execute_result"
    }
   ],
   "source": [
    "tokenizer.decode(tokens[0])"
   ]
  },
  {
   "cell_type": "markdown",
   "id": "102e00bb-8606-418e-8908-2cdc927eecd5",
   "metadata": {},
   "source": [
    "## Encode & Calculate Sentiment"
   ]
  },
  {
   "cell_type": "code",
   "execution_count": 7,
   "id": "12454931-f42d-46a3-a037-140c8febd35e",
   "metadata": {},
   "outputs": [],
   "source": [
    "tokens = tokenizer.encode('This is fucking bad, absolutely worst',return_tensors = 'pt')"
   ]
  },
  {
   "cell_type": "code",
   "execution_count": 8,
   "id": "10ae577f-b153-4dba-986f-05a5c673379e",
   "metadata": {},
   "outputs": [],
   "source": [
    "result = model(tokens)"
   ]
  },
  {
   "cell_type": "code",
   "execution_count": 9,
   "id": "ba70f01b-d59e-49c3-99c3-e56b75302e27",
   "metadata": {},
   "outputs": [
    {
     "data": {
      "text/plain": [
       "SequenceClassifierOutput(loss=None, logits=tensor([[ 5.2351,  1.6318, -0.8214, -2.8995, -2.2572]],\n",
       "       grad_fn=<AddmmBackward0>), hidden_states=None, attentions=None)"
      ]
     },
     "execution_count": 9,
     "metadata": {},
     "output_type": "execute_result"
    }
   ],
   "source": [
    "result"
   ]
  },
  {
   "cell_type": "code",
   "execution_count": 10,
   "id": "5485e265-a2c6-4784-9715-406f87cc40c5",
   "metadata": {},
   "outputs": [
    {
     "data": {
      "text/plain": [
       "tensor([[ 5.2351,  1.6318, -0.8214, -2.8995, -2.2572]],\n",
       "       grad_fn=<AddmmBackward0>)"
      ]
     },
     "execution_count": 10,
     "metadata": {},
     "output_type": "execute_result"
    }
   ],
   "source": [
    "result.logits"
   ]
  },
  {
   "cell_type": "code",
   "execution_count": 11,
   "id": "a325073c-e752-4c12-8324-1d4a061a0558",
   "metadata": {},
   "outputs": [
    {
     "data": {
      "text/plain": [
       "1"
      ]
     },
     "execution_count": 11,
     "metadata": {},
     "output_type": "execute_result"
    }
   ],
   "source": [
    "int(torch.argmax(result.logits)) + 1"
   ]
  },
  {
   "cell_type": "code",
   "execution_count": 12,
   "id": "a1e81eba-703b-476d-aa39-0a726a102e85",
   "metadata": {},
   "outputs": [],
   "source": [
    "r = requests.get('https://www.yelp.com/biz/cadillac-bar-and-grill-san-francisco')\n",
    "soup = BeautifulSoup(r.text, 'html.parser')\n",
    "regex = re.compile('.*comment.*')\n",
    "results = soup.find_all('p', {'class' : regex})\n",
    "reviews = [result.text for result in results]"
   ]
  },
  {
   "cell_type": "code",
   "execution_count": 13,
   "id": "9b461a56-b9da-41d0-9858-197b61d95bd8",
   "metadata": {},
   "outputs": [
    {
     "data": {
      "text/plain": [
       "'Awesome place for a quick dinner before heading to a musical play at The Orpheum theater.This restaurant has great ambiance and pretty huge place in that area. Food was tasty but kinda pricey for 2 people.We will definitely come back though to try other items from their menu.'"
      ]
     },
     "execution_count": 13,
     "metadata": {},
     "output_type": "execute_result"
    }
   ],
   "source": [
    "results[0].text"
   ]
  },
  {
   "cell_type": "code",
   "execution_count": 14,
   "id": "2395491f-e162-41fc-95e6-f55ecf08e900",
   "metadata": {},
   "outputs": [
    {
     "data": {
      "text/plain": [
       "'Nicole. Too bad while you were complaining about the water, everyone else was having a great time. '"
      ]
     },
     "execution_count": 14,
     "metadata": {},
     "output_type": "execute_result"
    }
   ],
   "source": [
    "results[-1].text"
   ]
  },
  {
   "cell_type": "markdown",
   "id": "76042260-0ab5-478a-8fa5-d930b5c1730e",
   "metadata": {},
   "source": [
    "## Load reviews in dataframe"
   ]
  },
  {
   "cell_type": "code",
   "execution_count": 15,
   "id": "6dcd1515-0125-497f-8d59-17207ce360ca",
   "metadata": {},
   "outputs": [],
   "source": [
    "df = pd.DataFrame(np.array(reviews), columns = ['Reviews'])"
   ]
  },
  {
   "cell_type": "code",
   "execution_count": 16,
   "id": "934c1c2e-5b96-4bd5-8412-7a40c05f76a0",
   "metadata": {},
   "outputs": [
    {
     "data": {
      "text/plain": [
       "'Awesome place for a quick dinner before heading to a musical play at The Orpheum theater.This restaurant has great ambiance and pretty huge place in that area. Food was tasty but kinda pricey for 2 people.We will definitely come back though to try other items from their menu.'"
      ]
     },
     "execution_count": 16,
     "metadata": {},
     "output_type": "execute_result"
    }
   ],
   "source": [
    "df.Reviews.iloc[0]"
   ]
  },
  {
   "cell_type": "code",
   "execution_count": 17,
   "id": "bec9c221-1424-46ce-a4b6-ea818cfb43c8",
   "metadata": {},
   "outputs": [],
   "source": [
    "def sentiment_score(review) :\n",
    "    tokens = tokenizer.encode(review,return_tensors = 'pt')\n",
    "    result = model(tokens)\n",
    "    return int(torch.argmax(result.logits)) + 1"
   ]
  },
  {
   "cell_type": "code",
   "execution_count": 18,
   "id": "1702ee44-7a4a-415f-ab6b-8290fdca3488",
   "metadata": {},
   "outputs": [],
   "source": [
    "df['Score'] = df['Reviews'].apply(sentiment_score)"
   ]
  },
  {
   "cell_type": "code",
   "execution_count": 125,
   "id": "12e2a562-5f03-4a70-abee-62d4435aca2d",
   "metadata": {},
   "outputs": [],
   "source": [
    "##### Another way\n",
    "# df['Sentiment'] = df['reviews'].apply(lambda x : sentiment_score(x[:512]))\n",
    "# df = df.drop('Sentiment', axis = 1)"
   ]
  },
  {
   "cell_type": "code",
   "execution_count": 24,
   "id": "8740ab2e",
   "metadata": {},
   "outputs": [
    {
     "data": {
      "text/html": [
       "<div>\n",
       "<style scoped>\n",
       "    .dataframe tbody tr th:only-of-type {\n",
       "        vertical-align: middle;\n",
       "    }\n",
       "\n",
       "    .dataframe tbody tr th {\n",
       "        vertical-align: top;\n",
       "    }\n",
       "\n",
       "    .dataframe thead th {\n",
       "        text-align: right;\n",
       "    }\n",
       "</style>\n",
       "<table border=\"1\" class=\"dataframe\">\n",
       "  <thead>\n",
       "    <tr style=\"text-align: right;\">\n",
       "      <th></th>\n",
       "      <th>Reviews</th>\n",
       "      <th>Score</th>\n",
       "    </tr>\n",
       "  </thead>\n",
       "  <tbody>\n",
       "    <tr>\n",
       "      <th>0</th>\n",
       "      <td>Awesome place for a quick dinner before headin...</td>\n",
       "      <td>4</td>\n",
       "    </tr>\n",
       "    <tr>\n",
       "      <th>1</th>\n",
       "      <td>Glad we could be a part of your fun evening!</td>\n",
       "      <td>5</td>\n",
       "    </tr>\n",
       "    <tr>\n",
       "      <th>2</th>\n",
       "      <td>What happened to their burritos?! Chicken tast...</td>\n",
       "      <td>2</td>\n",
       "    </tr>\n",
       "    <tr>\n",
       "      <th>3</th>\n",
       "      <td>Hey Krista, sorry you didn't enjoy your burrit...</td>\n",
       "      <td>2</td>\n",
       "    </tr>\n",
       "    <tr>\n",
       "      <th>4</th>\n",
       "      <td>I love Texmex and was excited to see this plac...</td>\n",
       "      <td>2</td>\n",
       "    </tr>\n",
       "    <tr>\n",
       "      <th>5</th>\n",
       "      <td>Thanks for stopping by during your time visiti...</td>\n",
       "      <td>1</td>\n",
       "    </tr>\n",
       "    <tr>\n",
       "      <th>6</th>\n",
       "      <td>Visited Cadillac Bar &amp; Grill for the first tim...</td>\n",
       "      <td>3</td>\n",
       "    </tr>\n",
       "    <tr>\n",
       "      <th>7</th>\n",
       "      <td>Hey Rhett, we're sorry that service was not up...</td>\n",
       "      <td>4</td>\n",
       "    </tr>\n",
       "    <tr>\n",
       "      <th>8</th>\n",
       "      <td>Excellent food to dine in or take out.Good hou...</td>\n",
       "      <td>5</td>\n",
       "    </tr>\n",
       "    <tr>\n",
       "      <th>9</th>\n",
       "      <td>Delightful, tasty dinner before seeing a show ...</td>\n",
       "      <td>5</td>\n",
       "    </tr>\n",
       "    <tr>\n",
       "      <th>10</th>\n",
       "      <td>My first time coming here ,and it won't be the...</td>\n",
       "      <td>5</td>\n",
       "    </tr>\n",
       "    <tr>\n",
       "      <th>11</th>\n",
       "      <td>Hi Latrina! Thank you for your kind words. We ...</td>\n",
       "      <td>5</td>\n",
       "    </tr>\n",
       "    <tr>\n",
       "      <th>12</th>\n",
       "      <td>Cadillac Bar &amp; Grill provides a pretty fun atm...</td>\n",
       "      <td>4</td>\n",
       "    </tr>\n",
       "    <tr>\n",
       "      <th>13</th>\n",
       "      <td>Hey Bryan, we appreciate you taking the time t...</td>\n",
       "      <td>5</td>\n",
       "    </tr>\n",
       "    <tr>\n",
       "      <th>14</th>\n",
       "      <td>Came here for a work luncheon so missed out on...</td>\n",
       "      <td>4</td>\n",
       "    </tr>\n",
       "    <tr>\n",
       "      <th>15</th>\n",
       "      <td>Thanks for the review, Jessica! We hope that y...</td>\n",
       "      <td>5</td>\n",
       "    </tr>\n",
       "    <tr>\n",
       "      <th>16</th>\n",
       "      <td>I really like this place BUT on Cinco de Mayo,...</td>\n",
       "      <td>2</td>\n",
       "    </tr>\n",
       "    <tr>\n",
       "      <th>17</th>\n",
       "      <td>Nicole. Too bad while you were complaining abo...</td>\n",
       "      <td>2</td>\n",
       "    </tr>\n",
       "  </tbody>\n",
       "</table>\n",
       "</div>"
      ],
      "text/plain": [
       "                                              Reviews  Score\n",
       "0   Awesome place for a quick dinner before headin...      4\n",
       "1       Glad we could be a part of your fun evening!       5\n",
       "2   What happened to their burritos?! Chicken tast...      2\n",
       "3   Hey Krista, sorry you didn't enjoy your burrit...      2\n",
       "4   I love Texmex and was excited to see this plac...      2\n",
       "5   Thanks for stopping by during your time visiti...      1\n",
       "6   Visited Cadillac Bar & Grill for the first tim...      3\n",
       "7   Hey Rhett, we're sorry that service was not up...      4\n",
       "8   Excellent food to dine in or take out.Good hou...      5\n",
       "9   Delightful, tasty dinner before seeing a show ...      5\n",
       "10  My first time coming here ,and it won't be the...      5\n",
       "11  Hi Latrina! Thank you for your kind words. We ...      5\n",
       "12  Cadillac Bar & Grill provides a pretty fun atm...      4\n",
       "13  Hey Bryan, we appreciate you taking the time t...      5\n",
       "14  Came here for a work luncheon so missed out on...      4\n",
       "15  Thanks for the review, Jessica! We hope that y...      5\n",
       "16  I really like this place BUT on Cinco de Mayo,...      2\n",
       "17  Nicole. Too bad while you were complaining abo...      2"
      ]
     },
     "execution_count": 24,
     "metadata": {},
     "output_type": "execute_result"
    }
   ],
   "source": [
    "df"
   ]
  },
  {
   "cell_type": "code",
   "execution_count": 26,
   "id": "950e9228",
   "metadata": {},
   "outputs": [
    {
     "data": {
      "text/plain": [
       "(array([1., 0., 5., 0., 0., 1., 0., 4., 0., 7.]),\n",
       " array([1. , 1.4, 1.8, 2.2, 2.6, 3. , 3.4, 3.8, 4.2, 4.6, 5. ]),\n",
       " <BarContainer object of 10 artists>)"
      ]
     },
     "execution_count": 26,
     "metadata": {},
     "output_type": "execute_result"
    },
    {
     "data": {
      "image/png": "[encoded data removed]",
      "text/plain": [
       "<Figure size 640x480 with 1 Axes>"
      ]
     },
     "metadata": {},
     "output_type": "display_data"
    }
   ],
   "source": [
    "plt.hist(df.Score)"
   ]
  },
  {
   "cell_type": "code",
   "execution_count": null,
   "id": "7576b36d",
   "metadata": {},
   "outputs": [],
   "source": []
  }
 ],
 "metadata": {
  "kernelspec": {
   "display_name": "Python 3 (ipykernel)",
   "language": "python",
   "name": "python3"
  },
  "language_info": {
   "codemirror_mode": {
    "name": "ipython",
    "version": 3
   },
   "file_extension": ".py",
   "mimetype": "text/x-python",
   "name": "python",
   "nbconvert_exporter": "python",
   "pygments_lexer": "ipython3",
   "version": "3.11.0"
  }
 },
 "nbformat": 4,
 "nbformat_minor": 5
}
